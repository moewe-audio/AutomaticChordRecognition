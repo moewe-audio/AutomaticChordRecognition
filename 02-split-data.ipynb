{
 "cells": [
  {
   "cell_type": "markdown",
   "metadata": {},
   "source": [
    "# Split the dataset into train, test and validation\n",
    "\n",
    "- splits the set of spectrogram image files into the folders `train_data`, `test_data` and `validation_data`\n",
    "- expects spectrograms to be stored in `spectros`"
   ]
  },
  {
   "cell_type": "code",
   "execution_count": null,
   "metadata": {},
   "outputs": [],
   "source": [
    "import os\n",
    "from sklearn.model_selection import train_test_split\n",
    "import shutil\n",
    "\n",
    "DATA_FOLDER = 'spectros'\n",
    "TRAIN_FOLDER = 'train_data'\n",
    "VALIDATION_FOLDER = 'validation_data'\n",
    "TEST_FOLDER = 'test_data'\n",
    "\n",
    "if not os.path.exists(TRAIN_FOLDER):\n",
    "    os.makedirs(TRAIN_FOLDER)\n",
    "    os.makedirs(VALIDATION_FOLDER)\n",
    "    os.makedirs(TEST_FOLDER)\n",
    "\n",
    "    for label in os.listdir(DATA_FOLDER):\n",
    "        label_path = os.path.join(DATA_FOLDER, label)\n",
    "        if os.path.isdir(label_path):\n",
    "            images = os.listdir(label_path)\n",
    "            train_val, test = train_test_split(images, test_size=0.1, random_state=42)\n",
    "            train, val = train_test_split(train_val, test_size=0.2, random_state=42)\n",
    "\n",
    "            for subset, subset_name in zip([train, val, test], [TRAIN_FOLDER, VALIDATION_FOLDER, TEST_FOLDER]):\n",
    "                label_subset_path = os.path.join(subset_name, label)\n",
    "                os.makedirs(label_subset_path, exist_ok=True)\n",
    "                for img in subset:\n",
    "                    shutil.copy(os.path.join(label_path, img), os.path.join(label_subset_path, img))"
   ]
  }
 ],
 "metadata": {
  "kernelspec": {
   "display_name": ".venv",
   "language": "python",
   "name": "python3"
  },
  "language_info": {
   "codemirror_mode": {
    "name": "ipython",
    "version": 3
   },
   "file_extension": ".py",
   "mimetype": "text/x-python",
   "name": "python",
   "nbconvert_exporter": "python",
   "pygments_lexer": "ipython3",
   "version": "3.12.7"
  }
 },
 "nbformat": 4,
 "nbformat_minor": 2
}
