{
 "cells": [
  {
   "cell_type": "markdown",
   "metadata": {},
   "source": [
    "## Script to copy major / minor chords from the Audio Piano Triads Dataset\n",
    "\n",
    "Intended to be used with this data set https://zenodo.org/records/4740877.\n",
    "\n",
    "Update `SOURCE_FOLDER` to point to the dataset on your local machine."
   ]
  },
  {
   "cell_type": "code",
   "execution_count": null,
   "metadata": {},
   "outputs": [],
   "source": [
    "import os\n",
    "import shutil\n",
    "\n",
    "SOURCE_FOLDER = \"audio_augmented_x10/\"\n",
    "MAJ_FOLDER = \"chords/maj\"\n",
    "MIN_FOLDER = \"chords/min\"\n",
    "\n",
    "if not os.path.exists(MAJ_FOLDER):\n",
    "    os.makedirs(MAJ_FOLDER)\n",
    "\n",
    "if not os.path.exists(MIN_FOLDER):\n",
    "    os.makedirs(MIN_FOLDER)\n",
    "\n",
    "for filename in os.listdir(SOURCE_FOLDER):\n",
    "    if filename.endswith(\".wav\"):\n",
    "        parts = filename.split(\"_\")\n",
    "        if len(parts) > 3:\n",
    "            if parts[3] == \"j\":\n",
    "                shutil.copy(os.path.join(SOURCE_FOLDER, filename), MAJ_FOLDER)\n",
    "            elif parts[3] == \"n\":\n",
    "                shutil.copy(os.path.join(SOURCE_FOLDER, filename), MIN_FOLDER)\n"
   ]
  }
 ],
 "metadata": {
  "kernelspec": {
   "display_name": ".venv",
   "language": "python",
   "name": "python3"
  },
  "language_info": {
   "codemirror_mode": {
    "name": "ipython",
    "version": 3
   },
   "file_extension": ".py",
   "mimetype": "text/x-python",
   "name": "python",
   "nbconvert_exporter": "python",
   "pygments_lexer": "ipython3",
   "version": "3.12.7"
  }
 },
 "nbformat": 4,
 "nbformat_minor": 2
}
