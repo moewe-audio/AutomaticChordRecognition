{
 "cells": [
  {
   "cell_type": "markdown",
   "metadata": {},
   "source": [
    "# Extract spectrogram images from wave files\n",
    "\n",
    "- expects the chords to be stored in .wav files in `chords/maj` and `chords/min`\n",
    "- each .wav file should contain exactly one chord and be at least 3 seconds long\n",
    "- spectrograms will be saves as .png files and stored into `spectros/maj` and `spectros/min`"
   ]
  },
  {
   "cell_type": "code",
   "execution_count": null,
   "metadata": {},
   "outputs": [],
   "source": [
    "import os\n",
    "import librosa\n",
    "\n",
    "def load_chord(input_path, output_folder, shapes_set):\n",
    "    output_filename = os.path.basename(input_path) + '.png'\n",
    "    output_path = os.path.join(output_folder, output_filename)  \n",
    "\n",
    "    os.makedirs(output_folder, exist_ok=True)\n",
    "\n",
    "    [y, _] = librosa.load(input_path, sr=16000)\n",
    "    max_length = 16000 * 3\n",
    "    y = librosa.util.fix_length(y, size=max_length)\n",
    "    spectrogram = librosa.stft(y)\n",
    "    amplitudes_db = librosa.amplitude_to_db(np.abs(spectrogram), ref=np.max)\n",
    "    normalized = (amplitudes_db - amplitudes_db.min()) / (amplitudes_db.max() - amplitudes_db.min())\n",
    "    as_image = (normalized * 255).astype(np.uint8)\n",
    "    shapes_set.add(as_image.shape)\n",
    "    image = Image.fromarray(as_image)\n",
    "    image.save(output_path)\n",
    "\n",
    "\n",
    "def process_chords(input_dir, output_dir):\n",
    "    unique_shapes = set()\n",
    "    for root, _, files in os.walk(input_dir):\n",
    "        for file in files:\n",
    "            if file.endswith('.wav'):\n",
    "                input_path = os.path.join(root, file)\n",
    "                relative_path = os.path.relpath(root, input_dir)\n",
    "                output_folder = os.path.join(output_dir, relative_path)\n",
    "                load_chord(input_path, output_folder, unique_shapes)\n",
    "    return unique_shapes\n",
    "\n",
    "shapes_maj = process_chords('chords/maj', 'spectros/maj')\n",
    "shapes_min = process_chords('chords/min', 'spectros/min')\n",
    "print(\"Chords loaded and spectograms saved as images\")\n",
    "all_unique_shapes = shapes_maj.union(shapes_min)\n",
    "print(\"Unique shapes of spectrogram images:\", all_unique_shapes)"
   ]
  }
 ],
 "metadata": {
  "kernelspec": {
   "display_name": ".venv",
   "language": "python",
   "name": "python3"
  },
  "language_info": {
   "codemirror_mode": {
    "name": "ipython",
    "version": 3
   },
   "file_extension": ".py",
   "mimetype": "text/x-python",
   "name": "python",
   "nbconvert_exporter": "python",
   "pygments_lexer": "ipython3",
   "version": "3.12.7"
  }
 },
 "nbformat": 4,
 "nbformat_minor": 2
}
