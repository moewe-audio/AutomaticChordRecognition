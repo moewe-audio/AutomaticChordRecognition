{
 "cells": [
  {
   "cell_type": "markdown",
   "metadata": {},
   "source": [
    "# Run model inference\n",
    "\n",
    "- use the pre-trained model (default) or set `MODEL_FILE` to point to another model\n",
    "- set `TEST_FILE` to the path of a chord .wav file. It should contain only one chord and be at least 3 seconds long\n",
    "- the included `testMin.wav` file will be used by default. It does not stem from the dataset used for training."
   ]
  },
  {
   "cell_type": "code",
   "execution_count": null,
   "metadata": {},
   "outputs": [],
   "source": [
    "import numpy as np\n",
    "from PIL import Image\n",
    "import tensorflow as tf\n",
    "import matplotlib.pyplot as plt\n",
    "from tensorflow.keras.utils import img_to_array\n",
    "import librosa\n",
    "import IPython\n",
    "\n",
    "MODEL_FILE = 'major-minor-model.h5'\n",
    "TEST_FILE = 'testMin.wav'\n",
    "SHAPE = (1025, 94)\n",
    "\n",
    "def load_chord(input_path):\n",
    "    [y, _] = librosa.load(input_path, sr=16000)\n",
    "    max_length = 16000 * 3\n",
    "    y = librosa.util.fix_length(y, size=max_length)\n",
    "    spectrogram = librosa.stft(y)\n",
    "    amplitudes_db = librosa.amplitude_to_db(np.abs(spectrogram), ref=np.max)\n",
    "    normalized = (amplitudes_db - amplitudes_db.min()) / (amplitudes_db.max() - amplitudes_db.min())\n",
    "    as_image = (normalized * 255).astype(np.uint8)\n",
    "    image = Image.fromarray(as_image)\n",
    "    resized_image = image.resize(SHAPE[::-1], Image.LANCZOS)  # Note: SHAPE is (height, width), PIL expects (width, height)\n",
    "    img_array = img_to_array(resized_image)\n",
    "    img_array = np.expand_dims(img_array, axis=0)\n",
    "    img_array = img_array / 255.\n",
    "\n",
    "    return img_array\n",
    "\n",
    "\n",
    "model = tf.keras.models.load_model(MODEL_FILE)\n",
    "\n",
    "print(model.summary())\n",
    "img = load_chord(TEST_FILE)\n",
    "[audio_file, sr] = librosa.load(TEST_FILE)\n",
    "pred = model.predict(img, verbose=1)\n",
    "print(pred)\n",
    "\n",
    "if pred > 0.5:\n",
    "    print(\"Predicted minor chord\")\n",
    "else:\n",
    "    print(\"Predicted major chord\")\n",
    "\n",
    "IPython.display.Audio(TEST_FILE)"
   ]
  }
 ],
 "metadata": {
  "kernelspec": {
   "display_name": ".venv",
   "language": "python",
   "name": "python3"
  },
  "language_info": {
   "codemirror_mode": {
    "name": "ipython",
    "version": 3
   },
   "file_extension": ".py",
   "mimetype": "text/x-python",
   "name": "python",
   "nbconvert_exporter": "python",
   "pygments_lexer": "ipython3",
   "version": "3.12.7"
  }
 },
 "nbformat": 4,
 "nbformat_minor": 2
}
