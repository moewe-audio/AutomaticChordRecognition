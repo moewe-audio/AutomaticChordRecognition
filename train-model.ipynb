{
 "cells": [
  {
   "cell_type": "markdown",
   "metadata": {},
   "source": [
    "## Import dependencies"
   ]
  },
  {
   "cell_type": "code",
   "execution_count": 6,
   "metadata": {},
   "outputs": [],
   "source": [
    "import os\n",
    "import numpy as np\n",
    "import librosa\n",
    "import librosa.display\n",
    "import matplotlib.pyplot as plt\n",
    "import pandas as pd"
   ]
  },
  {
   "cell_type": "markdown",
   "metadata": {},
   "source": [
    "## Extract and Save Pitch-class-profiles (PCP) Features"
   ]
  },
  {
   "cell_type": "code",
   "execution_count": null,
   "metadata": {},
   "outputs": [
    {
     "name": "stderr",
     "output_type": "stream",
     "text": [
      "/Users/loewe/machine learning/AutomaticChordRecognition/.venv/lib/python3.12/site-packages/librosa/core/pitch.py:101: UserWarning: Trying to estimate tuning from empty frequency set.\n",
      "  return pitch_tuning(\n"
     ]
    },
    {
     "name": "stdout",
     "output_type": "stream",
     "text": [
      "Number of files: 22950\n",
      "First file's feature shape: (63, 12)\n",
      "First file's label: f#-B-E\n"
     ]
    }
   ],
   "source": [
    "def roman_to_chords(input_str):\n",
    "    # Lookup tables for scales and roman numerals\n",
    "    sharp_scale = ['A', 'A#', 'B', 'C', 'C#', 'D', 'D#', 'E', 'F', 'F#', 'G', 'G#']\n",
    "    flat_scale = ['A', 'Bb', 'B', 'C', 'Db', 'D', 'Eb', 'E', 'F', 'Gb', 'G', 'Ab']\n",
    "    roman_map = {\n",
    "        'I': 0,  'ii': 1, 'iii': 2, 'IV': 3, 'V': 4, 'vi': 5, 'vii': 6\n",
    "    }\n",
    "    \n",
    "    # Parse the input string\n",
    "    parts = input_str.split('-')\n",
    "    root_note = parts[0]\n",
    "    chord_progression = parts[2:-1]  # Skip the root octave and final number\n",
    "    \n",
    "    # Determine if the scale uses sharps or flats\n",
    "    if root_note in sharp_scale:\n",
    "        scale = sharp_scale\n",
    "    elif root_note in flat_scale:\n",
    "        scale = flat_scale\n",
    "    else:\n",
    "        raise ValueError(\"Invalid root note\")\n",
    "    \n",
    "    root_index = scale.index(root_note)\n",
    "    major_scale = [scale[(root_index + i) % 12] for i in [0, 2, 4, 5, 7, 9, 11]]\n",
    "    minor_scale = [note.lower() for note in major_scale]\n",
    "    chords = []\n",
    "    for roman in chord_progression:\n",
    "        is_major = roman.isupper()\n",
    "        scale_index = roman_map[roman]\n",
    "        chord = major_scale[scale_index] if is_major else minor_scale[scale_index]\n",
    "        chords.append(chord)\n",
    "    \n",
    "    return '-'.join(chords)\n",
    "\n",
    "\n",
    "def load_features(dataset_path, sr=16000, n_fft=4096, hop_length=2048):\n",
    "    features = []\n",
    "    labels = []\n",
    "\n",
    "    for progression in os.listdir(dataset_path):\n",
    "        progression_path = os.path.join(dataset_path, progression)\n",
    "        if not os.path.isdir(progression_path):\n",
    "            continue \n",
    "\n",
    "        for file_name in os.listdir(progression_path):\n",
    "            if file_name.endswith('.wav'):\n",
    "                file_name.split('-')\n",
    "\n",
    "                label = roman_to_chords(file_name)\n",
    "\n",
    "                file_path = os.path.join(progression_path, file_name)\n",
    "                y, sr = librosa.load(file_path, sr=sr)\n",
    "                chroma = librosa.feature.chroma_stft(y=y, sr=sr, n_fft=n_fft, hop_length=hop_length)\n",
    "\n",
    "                features.append(chroma.T)  # Transpose for time-frame first\n",
    "                labels.append(label)\n",
    "\n",
    "    # Convert lists to NumPy arrays\n",
    "    features = np.array(features, dtype=object)  # Variable-length arrays\n",
    "    labels = np.array(labels)\n",
    "    \n",
    "    return features, labels\n",
    "\n",
    "dataset_path = 'progressions'\n",
    "features, labels = load_features(dataset_path)\n",
    "\n",
    "np.save('features.npy', features)\n",
    "np.save('labels.npy', labels)\n",
    "\n",
    "print(f\"Number of files: {len(features)}\")\n",
    "print(f\"First file's feature shape: {features[0].shape}\")\n",
    "print(f\"First file's label: {labels[0]}\")"
   ]
  },
  {
   "cell_type": "markdown",
   "metadata": {},
   "source": [
    "## Visualize one example feature + label"
   ]
  },
  {
   "cell_type": "code",
   "execution_count": 22,
   "metadata": {},
   "outputs": [
    {
     "data": {
      "image/png": "[encoded data removed]",
      "text/plain": [
       "<Figure size 1000x400 with 2 Axes>"
      ]
     },
     "metadata": {},
     "output_type": "display_data"
    }
   ],
   "source": [
    "features = np.load('features.npy', allow_pickle=True)\n",
    "labels = np.load('labels.npy', allow_pickle=True)\n",
    "\n",
    "def display_feature_and_label(index):\n",
    "    feature = features[index]\n",
    "    label = labels[index]\n",
    "    plt.figure(figsize=(10, 4))\n",
    "    librosa.display.specshow(\n",
    "        feature.T, x_axis='time', y_axis='chroma', cmap='coolwarm'\n",
    "    )\n",
    "    plt.colorbar(format='%+2.0f dB')\n",
    "    plt.title(f'Chromagram for Label: {label}')\n",
    "    plt.xlabel('Time (s)')\n",
    "    plt.ylabel('Pitch Class')\n",
    "    plt.tight_layout()\n",
    "    plt.show()\n",
    "\n",
    "index_to_display = 10024\n",
    "display_feature_and_label(index_to_display)"
   ]
  }
 ],
 "metadata": {
  "kernelspec": {
   "display_name": ".venv",
   "language": "python",
   "name": "python3"
  },
  "language_info": {
   "codemirror_mode": {
    "name": "ipython",
    "version": 3
   },
   "file_extension": ".py",
   "mimetype": "text/x-python",
   "name": "python",
   "nbconvert_exporter": "python",
   "pygments_lexer": "ipython3",
   "version": "3.12.7"
  }
 },
 "nbformat": 4,
 "nbformat_minor": 2
}
